{
 "cells": [
  {
   "cell_type": "code",
   "execution_count": 7,
   "id": "46c0ac27",
   "metadata": {},
   "outputs": [
    {
     "name": "stdout",
     "output_type": "stream",
     "text": [
      "Defaulting to user installation because normal site-packages is not writeable\n",
      "Requirement already satisfied: openpyxl in c:\\programdata\\anaconda3\\lib\\site-packages (3.0.10)\n",
      "Requirement already satisfied: et_xmlfile in c:\\programdata\\anaconda3\\lib\\site-packages (from openpyxl) (1.1.0)\n",
      "Defaulting to user installation because normal site-packages is not writeable\n",
      "Requirement already satisfied: selenium in c:\\users\\admin\\appdata\\roaming\\python\\python310\\site-packages (4.11.2)\n",
      "Requirement already satisfied: certifi>=2021.10.8 in c:\\programdata\\anaconda3\\lib\\site-packages (from selenium) (2022.12.7)\n",
      "Requirement already satisfied: urllib3[socks]<3,>=1.26 in c:\\programdata\\anaconda3\\lib\\site-packages (from selenium) (1.26.14)\n",
      "Requirement already satisfied: trio-websocket~=0.9 in c:\\users\\admin\\appdata\\roaming\\python\\python310\\site-packages (from selenium) (0.10.3)\n",
      "Requirement already satisfied: trio~=0.17 in c:\\users\\admin\\appdata\\roaming\\python\\python310\\site-packages (from selenium) (0.22.2)\n",
      "Requirement already satisfied: attrs>=20.1.0 in c:\\programdata\\anaconda3\\lib\\site-packages (from trio~=0.17->selenium) (22.1.0)\n",
      "Requirement already satisfied: cffi>=1.14 in c:\\programdata\\anaconda3\\lib\\site-packages (from trio~=0.17->selenium) (1.15.1)\n",
      "Requirement already satisfied: exceptiongroup>=1.0.0rc9 in c:\\users\\admin\\appdata\\roaming\\python\\python310\\site-packages (from trio~=0.17->selenium) (1.1.2)\n",
      "Requirement already satisfied: outcome in c:\\users\\admin\\appdata\\roaming\\python\\python310\\site-packages (from trio~=0.17->selenium) (1.2.0)\n",
      "Requirement already satisfied: sortedcontainers in c:\\programdata\\anaconda3\\lib\\site-packages (from trio~=0.17->selenium) (2.4.0)\n",
      "Requirement already satisfied: sniffio in c:\\programdata\\anaconda3\\lib\\site-packages (from trio~=0.17->selenium) (1.2.0)\n",
      "Requirement already satisfied: idna in c:\\programdata\\anaconda3\\lib\\site-packages (from trio~=0.17->selenium) (3.4)\n",
      "Requirement already satisfied: wsproto>=0.14 in c:\\users\\admin\\appdata\\roaming\\python\\python310\\site-packages (from trio-websocket~=0.9->selenium) (1.2.0)\n",
      "Requirement already satisfied: PySocks!=1.5.7,<2.0,>=1.5.6 in c:\\programdata\\anaconda3\\lib\\site-packages (from urllib3[socks]<3,>=1.26->selenium) (1.7.1)\n",
      "Requirement already satisfied: pycparser in c:\\programdata\\anaconda3\\lib\\site-packages (from cffi>=1.14->trio~=0.17->selenium) (2.21)\n",
      "Requirement already satisfied: h11<1,>=0.9.0 in c:\\users\\admin\\appdata\\roaming\\python\\python310\\site-packages (from wsproto>=0.14->trio-websocket~=0.9->selenium) (0.14.0)\n"
     ]
    }
   ],
   "source": [
    "!pip install openpyxl\n",
    "!pip install selenium"
   ]
  },
  {
   "cell_type": "code",
   "execution_count": 8,
   "id": "fe05d496",
   "metadata": {},
   "outputs": [],
   "source": [
    "import openpyxl\n",
    "import datetime\n",
    "from selenium import webdriver\n",
    "from selenium.webdriver.common.keys import Keys"
   ]
  },
  {
   "cell_type": "code",
   "execution_count": 9,
   "id": "0bf5ce37",
   "metadata": {},
   "outputs": [
    {
     "name": "stdout",
     "output_type": "stream",
     "text": [
      "Opening 'Sunday' worksheet...\n"
     ]
    },
    {
     "ename": "AttributeError",
     "evalue": "'WebDriver' object has no attribute 'find_elements_by_css_selector'",
     "output_type": "error",
     "traceback": [
      "\u001b[1;31m---------------------------------------------------------------------------\u001b[0m",
      "\u001b[1;31mAttributeError\u001b[0m                            Traceback (most recent call last)",
      "Cell \u001b[1;32mIn[9], line 36\u001b[0m\n\u001b[0;32m     33\u001b[0m driver\u001b[38;5;241m.\u001b[39mget(\u001b[38;5;124mf\u001b[39m\u001b[38;5;124m\"\u001b[39m\u001b[38;5;124mhttps://www.google.com/search?q=\u001b[39m\u001b[38;5;132;01m{\u001b[39;00mkeyword\u001b[38;5;132;01m}\u001b[39;00m\u001b[38;5;124m\"\u001b[39m)\n\u001b[0;32m     35\u001b[0m \u001b[38;5;66;03m# Get suggestions from the search results\u001b[39;00m\n\u001b[1;32m---> 36\u001b[0m suggestions \u001b[38;5;241m=\u001b[39m \u001b[43mdriver\u001b[49m\u001b[38;5;241;43m.\u001b[39;49m\u001b[43mfind_elements_by_css_selector\u001b[49m(\u001b[38;5;124m\"\u001b[39m\u001b[38;5;124m.sbct\u001b[39m\u001b[38;5;124m\"\u001b[39m)\n\u001b[0;32m     37\u001b[0m suggestion_texts \u001b[38;5;241m=\u001b[39m [suggestion\u001b[38;5;241m.\u001b[39mfind_element_by_css_selector(\u001b[38;5;124m\"\u001b[39m\u001b[38;5;124m.pcTkSc .lnnVSe\u001b[39m\u001b[38;5;124m\"\u001b[39m)\u001b[38;5;241m.\u001b[39mget_attribute(\u001b[38;5;124m\"\u001b[39m\u001b[38;5;124maria-label\u001b[39m\u001b[38;5;124m\"\u001b[39m) \u001b[38;5;28;01mfor\u001b[39;00m suggestion \u001b[38;5;129;01min\u001b[39;00m suggestions]\n",
      "\u001b[1;31mAttributeError\u001b[0m: 'WebDriver' object has no attribute 'find_elements_by_css_selector'"
     ]
    }
   ],
   "source": [
    "# Get the name of the current day\n",
    "current_day = datetime.datetime.now().strftime('%A')  # Full weekday name\n",
    "#print(current_day)\n",
    "\n",
    "# Define the path to your Excel workbook\n",
    "workbook_path = 'D:/Python/MAssudurinment/Excel.xlsx'\n",
    "\n",
    "# Load the workbook\n",
    "workbook = openpyxl.load_workbook(workbook_path)\n",
    "\n",
    "# Check if the current day's worksheet exists\n",
    "if current_day in workbook.sheetnames:\n",
    "    current_worksheet = workbook[current_day]\n",
    "    print(f\"Opening '{current_day}' worksheet...\")\n",
    "    # Now you can work with the current worksheet as needed\n",
    "else:\n",
    "    print(f\"'{current_day}' worksheet not found in the workbook.\")\n",
    "    \n",
    "# Initialize Selenium WebDriver (assuming you have ChromeDriver installed)\n",
    "driver = webdriver.Chrome()\n",
    "\n",
    "# Specify the range of keywords in the worksheet\n",
    "keyword_range = current_worksheet['C3:C12']\n",
    "\n",
    "# Iterate through keywords in the specified range\n",
    "for row in keyword_range:\n",
    "    for cell in row:\n",
    "        keyword = cell.value\n",
    "    \n",
    "        # Open a new tab and search on Google\n",
    "        driver.execute_script(\"window.open('about:blank', '_blank');\")\n",
    "        driver.switch_to.window(driver.window_handles[-1])\n",
    "        driver.get(f\"https://www.google.com/search?q={keyword}\")\n",
    "    \n",
    "        # Get suggestions from the search results\n",
    "        suggestions = driver.find_elements_by_css_selector(\".sbct\")\n",
    "        suggestion_texts = [suggestion.find_element_by_css_selector(\".pcTkSc .lnnVSe\").get_attribute(\"aria-label\") for suggestion in suggestions]"
   ]
  }
 ],
 "metadata": {
  "kernelspec": {
   "display_name": "Python 3 (ipykernel)",
   "language": "python",
   "name": "python3"
  },
  "language_info": {
   "codemirror_mode": {
    "name": "ipython",
    "version": 3
   },
   "file_extension": ".py",
   "mimetype": "text/x-python",
   "name": "python",
   "nbconvert_exporter": "python",
   "pygments_lexer": "ipython3",
   "version": "3.10.9"
  }
 },
 "nbformat": 4,
 "nbformat_minor": 5
}
