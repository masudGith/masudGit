{
 "cells": [
  {
   "cell_type": "code",
   "execution_count": null,
   "id": "3201ed5e",
   "metadata": {},
   "outputs": [],
   "source": [
    "import openpyxl\n",
    "import datetime\n",
    "import time\n",
    "from selenium import webdriver\n",
    "from selenium.webdriver.common.keys import Keys\n",
    "from selenium.webdriver.common.by import By\n",
    "from selenium.webdriver.support.ui import WebDriverWait\n",
    "from selenium.webdriver.support import expected_conditions as EC\n",
    "from webdriver_manager.chrome import ChromeDriverManager\n",
    "from openpyxl import utils"
   ]
  },
  {
   "cell_type": "code",
   "execution_count": null,
   "id": "6a1e7b15",
   "metadata": {},
   "outputs": [
    {
     "name": "stdout",
     "output_type": "stream",
     "text": [
      "<Worksheet \"Monday\">\n"
     ]
    }
   ],
   "source": [
    "# Get the current day's name\n",
    "current_day = datetime.datetime.now().strftime('%A')\n",
    "\n",
    "# Specify the path to your Excel file\n",
    "file_path = r'D:\\Python\\Massudment\\Excel.xlsx'\n",
    "\n",
    "# Load the Excel workbook\n",
    "workbook = openpyxl.load_workbook(file_path)\n",
    "\n",
    "# Get the worksheet corresponding to the current day's name\n",
    "worksheet = workbook[current_day]\n",
    "print(worksheet)"
   ]
  },
  {
   "cell_type": "code",
   "execution_count": 12,
   "id": "11587ba0",
   "metadata": {},
   "outputs": [
    {
     "name": "stdout",
     "output_type": "stream",
     "text": [
      "5\n",
      "13\n"
     ]
    }
   ],
   "source": [
    "max_col_number = worksheet.max_column\n",
    "max_row_number = worksheet.max_row\n",
    "print(max_col_number)\n",
    "print(max_row_number)"
   ]
  },
  {
   "cell_type": "code",
   "execution_count": 13,
   "id": "222c3872",
   "metadata": {},
   "outputs": [
    {
     "name": "stdout",
     "output_type": "stream",
     "text": [
      "{'Keyword1': 'Dhaka', 'Keyword2': 'Dates', 'Keyword3': 'Baby', 'Keyword4': 'School', 'Keyword5': 'Cricket', 'Keyword6': 'Momey', 'Keyword7': 'Int', 'Keyword8': 'Look', 'Keyword9': 'Hello', 'Keyword10': 'By'}\n"
     ]
    }
   ],
   "source": [
    "# Initialize a dictionary to store the keywords and their values\n",
    "keywords = {}\n",
    "\n",
    "# Iterate through the rows to find the keywords and their values\n",
    "for row_number in range(1, max_row_number + 1):\n",
    "    keyword_column = None\n",
    "    keyword_value = None\n",
    "\n",
    "    for col_number in range(1, max_col_number + 1):\n",
    "        col_letter = utils.get_column_letter(col_number)\n",
    "        cell_value = worksheet[f'{col_letter}{row_number}'].value\n",
    "\n",
    "        if cell_value and cell_value.lower().startswith('keyword'):\n",
    "            keyword_column = col_number\n",
    "            keyword_value = cell_value\n",
    "            break\n",
    "\n",
    "    if keyword_column and keyword_value:\n",
    "        value_column = keyword_column + 1\n",
    "        value = worksheet[f'{openpyxl.utils.get_column_letter(value_column)}{row_number}'].value\n",
    "        keywords[keyword_value] = value\n",
    "\n",
    "print(keywords)"
   ]
  },
  {
   "cell_type": "code",
   "execution_count": 14,
   "id": "1e5741a1",
   "metadata": {},
   "outputs": [],
   "source": [
    "# Initialize WebDriver using webdriver_manager\n",
    "#driver = webdriver.Chrome() --> The chromedriver.exe file is in the project folder."
   ]
  },
  {
   "cell_type": "code",
   "execution_count": null,
   "id": "57a74d06",
   "metadata": {},
   "outputs": [
    {
     "name": "stdout",
     "output_type": "stream",
     "text": [
      "ঢাকা শিক্ষা বোর্ড\n",
      "dhaka education board\n",
      "dhaka post\n",
      "ঢাকা স্টক এক্সচেঞ্জ\n",
      "ঢাকা পোস্ট\n",
      "dates calories\n",
      "dates nutrition\n",
      "dates meaning in bengali\n",
      "dates price in bangladesh\n",
      "dates nutrition facts 100g\n",
      "dates tree\n",
      "dates meaning\n",
      "dates during pregnancy\n",
      "dates fruit meaning in bengali\n",
      "baby picture\n",
      "baby tower\n",
      "baby pic\n",
      "baby baji\n",
      "baby mehndi design\n",
      "baby dress\n",
      "baby doll\n",
      "baby calm down lyrics\n",
      "school magazine paragraph\n",
      "school gang season 2\n",
      "school library paragraph\n",
      "school bag\n",
      "school girl\n",
      "school teacher\n",
      "school game\n",
      "cricket live\n",
      "cricket live score\n",
      "cricket exchange\n",
      "cricket world cup 2023\n",
      "cricket score\n",
      "cricket live ipl\n",
      "cricket game\n",
      "cricket ranking\n",
      "money converter\n",
      "money donation in bangladesh 2023\n",
      "money cannot bring happiness story\n",
      "money receipt\n",
      "money heist season 1\n",
      "money laundering\n",
      "money exchange bd\n",
      "money pic\n",
      "int meaning\n",
      "int to string c++\n",
      "int size\n",
      "int range\n",
      "int vs acm\n",
      "int full form\n",
      "int to string\n",
      "inr to bdt\n",
      "int range in c\n",
      "int vs man city\n",
      "look before you leap\n",
      "look meaning in bengali\n",
      "look before you leap story\n",
      "look before you leap meaning in bengali\n",
      "look over meaning\n",
      "look forward to meaning in bengali\n",
      "look over meaning in bengali\n",
      "look into meaning\n",
      "hello google\n",
      "hello meaning in bengali\n",
      "hello google how are you\n",
      "hello world\n",
      "hello how are you\n",
      "hello in japanese\n",
      "hello in korean\n",
      "hello meaning\n"
     ]
    }
   ],
   "source": [
    "longest_auto_suggestion = \"\"\n",
    "shortest_auto_suggestion = \"\"\n",
    "\n",
    "# Initialize WebDriver using webdriver_manager\n",
    "driver = webdriver.Chrome(ChromeDriverManager().install()) # The chromedriver.exe file is not even downloaded.\n",
    "\n",
    "# Iterate through values and perform Google search\n",
    "for value in keywords.values():\n",
    "    search_query = f\"{value}\"\n",
    "    driver.get(\"https://www.google.com\")\n",
    "    search_box = driver.find_element(By.NAME, \"q\")\n",
    "    #search_box = driver.find_element(By.XPATH, \"//textarea[@id='APjFqb']\")\n",
    "    search_box.click()\n",
    "    time.sleep(2)\n",
    "    search_box.send_keys(search_query)\n",
    "    search_box.send_keys(Keys.SPACE)\n",
    "    time.sleep(4)\n",
    "    search_suggestions = driver.find_elements(By.XPATH, \"//div[@class='erkvQe']//li[@class='sbct']//div[@class='lnnVSe']\")\n",
    "    for element in search_suggestions:\n",
    "        keyword_suggestion = element.get_attribute(\"aria-label\")\n",
    "        print(keyword_suggestion)"
   ]
  },
  {
   "cell_type": "code",
   "execution_count": null,
   "id": "2ca9d3ea",
   "metadata": {},
   "outputs": [],
   "source": []
  }
 ],
 "metadata": {
  "kernelspec": {
   "display_name": "Python 3 (ipykernel)",
   "language": "python",
   "name": "python3"
  },
  "language_info": {
   "codemirror_mode": {
    "name": "ipython",
    "version": 3
   },
   "file_extension": ".py",
   "mimetype": "text/x-python",
   "name": "python",
   "nbconvert_exporter": "python",
   "pygments_lexer": "ipython3",
   "version": "3.11.4"
  }
 },
 "nbformat": 4,
 "nbformat_minor": 5
}
